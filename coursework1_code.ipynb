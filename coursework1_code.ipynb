{
 "cells": [
  {
   "metadata": {},
   "cell_type": "markdown",
   "source": [
    "# Introduction to ML - Decision Tree Coursework COMP70050\n",
    "\n",
    "## Group Members:  \n",
    "* Xuhan Zhang\n",
    "* Judy Zhu\n",
    "* Shijin Zhang"
   ],
   "id": "c3105ea3e26616ae"
  },
  {
   "metadata": {},
   "cell_type": "markdown",
   "source": [
    "## Overview\n",
    "In this assignment, we will implement a decision tree algorithm and use it to determine one of the indoor\n",
    "locations based on WIFI signal strengths collected from a mobile phone."
   ],
   "id": "3583d72ec833664"
  },
  {
   "cell_type": "code",
   "id": "initial_id",
   "metadata": {
    "collapsed": true,
    "ExecuteTime": {
     "end_time": "2024-10-16T21:40:43.478100Z",
     "start_time": "2024-10-16T21:40:42.982488Z"
    }
   },
   "source": [
    "import numpy as np\n",
    "import matplotlib.pyplot as plt"
   ],
   "outputs": [],
   "execution_count": 1
  },
  {
   "metadata": {},
   "cell_type": "markdown",
   "source": "",
   "id": "698f553828941c8d"
  },
  {
   "cell_type": "code",
   "execution_count": null,
   "outputs": [],
   "source": "",
   "metadata": {
    "collapsed": false
   },
   "id": "c76f3a8a6fc505de"
  }
 ],
 "metadata": {
  "kernelspec": {
   "name": "intro2ml",
   "language": "python",
   "display_name": "Python (intro2ml)"
  },
  "language_info": {
   "codemirror_mode": {
    "name": "ipython",
    "version": 2
   },
   "file_extension": ".py",
   "mimetype": "text/x-python",
   "name": "python",
   "nbconvert_exporter": "python",
   "pygments_lexer": "ipython2",
   "version": "2.7.6"
  }
 },
 "nbformat": 4,
 "nbformat_minor": 5
}
