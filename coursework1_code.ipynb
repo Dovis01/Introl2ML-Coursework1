{
 "cells": [
  {
   "metadata": {},
   "cell_type": "markdown",
   "source": [
    "# Introduction to ML - Decision Tree Coursework COMP70050\n",
    "\n",
    "## Group Members:  \n",
    "* Xuhan Zhang\n",
    "* Judy Zhu\n",
    "* Shijin Zhang"
   ],
   "id": "c3105ea3e26616ae"
  },
  {
   "metadata": {},
   "cell_type": "markdown",
   "source": [
    "## Overview\n",
    "In this assignment, we will implement a decision tree algorithm and use it to determine one of the indoor\n",
    "locations based on WIFI signal strengths collected from a mobile phone."
   ],
   "id": "3583d72ec833664"
  },
  {
   "cell_type": "code",
   "id": "initial_id",
   "metadata": {
    "collapsed": true,
    "ExecuteTime": {
     "end_time": "2024-10-16T22:01:08.085538Z",
     "start_time": "2024-10-16T22:01:07.544882Z"
    }
   },
   "source": [
    "import numpy as np\n",
    "import matplotlib.pyplot as plt"
   ],
   "outputs": [],
   "execution_count": 1
  },
  {
   "metadata": {},
   "cell_type": "markdown",
   "source": [
    "## Step 1: Loading data\n",
    "load the datasets from the files \"wifi_db/clean_dataset.txt\" and \"wifi_db/noisy_dataset.txt\". They contain a 2000x8 array."
   ],
   "id": "698f553828941c8d"
  },
  {
   "cell_type": "code",
   "source": [
    "def load_datasets():\n",
    "    # Load the datasets\n",
    "    clean_data_path = 'wifi_db/clean_dataset.txt'\n",
    "    noisy_data_path = 'wifi_db/noisy_dataset.txt'\n",
    "    \n",
    "    try:\n",
    "        clean_dataset = np.loadtxt(clean_data_path)\n",
    "        noisy_dataset = np.loadtxt(noisy_data_path)\n",
    "        \n",
    "        print(\"Clean dataset loaded successfully with shape:\", clean_dataset.shape)\n",
    "        print(\"Noisy dataset loaded successfully with shape:\", noisy_dataset.shape)\n",
    "        \n",
    "    except Exception as e:\n",
    "        print(f\"Error loading datasets: {e}\")\n",
    "        return None, None\n",
    "    \n",
    "    return clean_dataset, noisy_dataset"
   ],
   "metadata": {
    "collapsed": false,
    "ExecuteTime": {
     "end_time": "2024-10-16T22:01:08.101429Z",
     "start_time": "2024-10-16T22:01:08.096547Z"
    }
   },
   "id": "c76f3a8a6fc505de",
   "outputs": [],
   "execution_count": 2
  },
  {
   "metadata": {
    "ExecuteTime": {
     "end_time": "2024-10-16T22:01:58.218838Z",
     "start_time": "2024-10-16T22:01:58.208005Z"
    }
   },
   "cell_type": "code",
   "source": "clean_dataset, noisy_dataset = load_datasets()",
   "id": "c64af16f993d70d0",
   "outputs": [
    {
     "name": "stdout",
     "output_type": "stream",
     "text": [
      "Clean dataset loaded successfully with shape: (2000, 8)\n",
      "Noisy dataset loaded successfully with shape: (2000, 8)\n"
     ]
    }
   ],
   "execution_count": 3
  },
  {
   "metadata": {},
   "cell_type": "markdown",
   "source": "",
   "id": "99bce4c37f04c320"
  }
 ],
 "metadata": {
  "kernelspec": {
   "name": "intro2ml",
   "language": "python",
   "display_name": "Python (intro2ml)"
  },
  "language_info": {
   "codemirror_mode": {
    "name": "ipython",
    "version": 2
   },
   "file_extension": ".py",
   "mimetype": "text/x-python",
   "name": "python",
   "nbconvert_exporter": "python",
   "pygments_lexer": "ipython2",
   "version": "2.7.6"
  }
 },
 "nbformat": 4,
 "nbformat_minor": 5
}
